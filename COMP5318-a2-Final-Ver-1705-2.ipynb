{
 "cells": [
  {
   "cell_type": "markdown",
   "id": "a1f6fd28",
   "metadata": {},
   "source": [
    "# Package"
   ]
  },
  {
   "cell_type": "code",
   "execution_count": 2,
   "id": "899241e8",
   "metadata": {},
   "outputs": [
    {
     "name": "stderr",
     "output_type": "stream",
     "text": [
      "[nltk_data] Downloading package punkt to\n",
      "[nltk_data]     C:\\Users\\cindy\\AppData\\Roaming\\nltk_data...\n",
      "[nltk_data]   Package punkt is already up-to-date!\n",
      "[nltk_data] Downloading package stopwords to\n",
      "[nltk_data]     C:\\Users\\cindy\\AppData\\Roaming\\nltk_data...\n",
      "[nltk_data]   Package stopwords is already up-to-date!\n",
      "[nltk_data] Downloading package wordnet to\n",
      "[nltk_data]     C:\\Users\\cindy\\AppData\\Roaming\\nltk_data...\n",
      "[nltk_data]   Package wordnet is already up-to-date!\n"
     ]
    }
   ],
   "source": [
    "import tensorflow as tf\n",
    "import matplotlib.pyplot as plt\n",
    "import pandas as pd\n",
    "import numpy as np\n",
    "import nltk\n",
    "import time \n",
    "nltk.download('punkt')\n",
    "nltk.download('stopwords')\n",
    "nltk.download('wordnet')\n",
    "from sklearn.feature_extraction.text import TfidfVectorizer\n",
    "from nltk.stem import WordNetLemmatizer\n",
    "from nltk.tokenize import word_tokenize\n",
    "from nltk.corpus import stopwords as sw\n",
    "from sklearn.model_selection import train_test_split\n",
    "from sklearn.preprocessing import LabelEncoder\n",
    "from tensorflow.keras.preprocessing.sequence import pad_sequences\n",
    "from keras.preprocessing.text import Tokenizer\n",
    "import re\n",
    "import requests\n",
    "import zipfile\n",
    "import io\n",
    "import warnings\n",
    "from sklearn.linear_model import LogisticRegression\n",
    "from sklearn.svm import LinearSVC\n",
    "from sklearn.model_selection import GridSearchCV, RepeatedStratifiedKFold\n",
    "from sklearn.metrics import f1_score, classification_report, ConfusionMatrixDisplay\n",
    "from sklearn.metrics import confusion_matrix\n",
    "from sklearn.naive_bayes import BernoulliNB\n",
    "from tensorflow.keras.layers import Conv1D, Bidirectional, LSTM, Dense, Input, Dropout, SpatialDropout1D\n",
    "from tensorflow.keras.optimizers import Adam\n",
    "from tensorflow.keras.callbacks import ReduceLROnPlateau\n",
    "from tensorflow.keras.wrappers.scikit_learn import KerasClassifier\n",
    "from sklearn.model_selection import GridSearchCV\n",
    "import timeit\n",
    "from sklearn.svm import SVC\n",
    "import seaborn as sns"
   ]
  },
  {
   "cell_type": "code",
   "execution_count": 3,
   "id": "28d003b9",
   "metadata": {},
   "outputs": [
    {
     "name": "stdout",
     "output_type": "stream",
     "text": [
      "Requirement already satisfied: plotly in c:\\users\\cindy\\anaconda3\\lib\\site-packages (5.14.1)\n",
      "Requirement already satisfied: packaging in c:\\users\\cindy\\anaconda3\\lib\\site-packages (from plotly) (21.0)\n",
      "Requirement already satisfied: tenacity>=6.2.0 in c:\\users\\cindy\\anaconda3\\lib\\site-packages (from plotly) (8.2.2)\n",
      "Requirement already satisfied: pyparsing>=2.0.2 in c:\\users\\cindy\\anaconda3\\lib\\site-packages (from packaging->plotly) (3.0.4)\n"
     ]
    }
   ],
   "source": [
    "!pip install plotly"
   ]
  },
  {
   "cell_type": "code",
   "execution_count": 4,
   "id": "72256a80",
   "metadata": {},
   "outputs": [],
   "source": [
    "#load data \n",
    "df = pd.read_csv(\"training.300000.processed.noemoticon.csv\", encoding = \"ISO-8859-1\", engine=\"python\")"
   ]
  },
  {
   "cell_type": "code",
   "execution_count": 5,
   "id": "cf4ea4a2",
   "metadata": {},
   "outputs": [
    {
     "data": {
      "text/plain": [
       "4    150515\n",
       "0    149485\n",
       "Name: sentiment, dtype: int64"
      ]
     },
     "execution_count": 5,
     "metadata": {},
     "output_type": "execute_result"
    }
   ],
   "source": [
    "df['sentiment'].value_counts()"
   ]
  },
  {
   "cell_type": "markdown",
   "id": "ca086949",
   "metadata": {},
   "source": [
    "Number of entries with positive vs negative sentiment is roughly equal, don't need to worry about imbalanced data."
   ]
  },
  {
   "cell_type": "code",
   "execution_count": 6,
   "id": "836b3c78",
   "metadata": {},
   "outputs": [],
   "source": [
    "df['sentiment'] = df['sentiment'].replace(4, 1)"
   ]
  },
  {
   "cell_type": "markdown",
   "id": "8b116061",
   "metadata": {},
   "source": [
    "# Data Processing "
   ]
  },
  {
   "cell_type": "code",
   "execution_count": 7,
   "id": "6ec9a688",
   "metadata": {},
   "outputs": [],
   "source": [
    "#delete punctuation, @names, and clean twitter text\n",
    "\n",
    "import re\n",
    "def clean_text(x):\n",
    "    # Define a regular expression to match username tag,\n",
    "    # alphanumeric characters and underscores\n",
    "    user_tag_regex = r'@[A-Za-z0-9_]+'\n",
    "    # Define a regular expression to match URLs\n",
    "    url_regex = r'https?://\\S+|www\\.\\S+'\n",
    "    # Define a regular expression to match hashtags\n",
    "    hashtag_regex = r'#\\w+'\n",
    "\n",
    "    # Remove email addresses\n",
    "    x = re.sub(user_tag_regex, '', x)\n",
    "    # Remove URLs\n",
    "    x = re.sub(url_regex, '', x)\n",
    "    # Remove hashtags\n",
    "    x = re.sub(hashtag_regex, '', x)\n",
    "    # remove punctuation and special characters\n",
    "    x = re.sub(r'[^\\w\\s]','',x)\n",
    "    # remove digits/numbers\n",
    "    x = re.sub('[0-9]+','', x)\n",
    "    # remove 3+ repeated characters in a row, substitute with 2\n",
    "    pattern = r'(\\w)(\\1{2,})'\n",
    "    substitution = r'\\1\\1'\n",
    "    x = re.sub(pattern, substitution, x)\n",
    "    # substitute words containing 'haha' into 'haha'\n",
    "    pattern = re.compile(r'\\b\\w*haha\\w*\\b')\n",
    "    x = pattern.sub('haha', x)\n",
    "    # substitute words containing 'xox' into 'xo'\n",
    "    pattern = re.compile(r'\\b\\w*xox\\w*\\b')\n",
    "    x = pattern.sub('xo', x)\n",
    "    # remove words with non-ASCII characters\n",
    "    pattern = re.compile(r'[^\\x00-\\x7F]+')\n",
    "    x = pattern.sub('', x)\n",
    "\n",
    "    return x\n",
    "\n",
    "df['text'] = [clean_text(text) for text in df['text']] "
   ]
  },
  {
   "cell_type": "markdown",
   "id": "3e155ff9",
   "metadata": {},
   "source": [
    "### Data set split"
   ]
  },
  {
   "cell_type": "code",
   "execution_count": 8,
   "id": "af09339c",
   "metadata": {},
   "outputs": [],
   "source": [
    "X_train, X_test, y_train, y_test = train_test_split(df['text'], df['sentiment'], test_size = 0.25, random_state = 0)"
   ]
  },
  {
   "cell_type": "markdown",
   "id": "a2700aa3",
   "metadata": {},
   "source": [
    "### Tokenisation"
   ]
  },
  {
   "cell_type": "code",
   "execution_count": 9,
   "id": "6ecd61e9",
   "metadata": {},
   "outputs": [],
   "source": [
    "X_train = [word_tokenize(s) for s in X_train]\n",
    "X_test = [word_tokenize(s) for s in X_test]"
   ]
  },
  {
   "cell_type": "markdown",
   "id": "23c85fc9",
   "metadata": {},
   "source": [
    "### Remove Stopwords"
   ]
  },
  {
   "cell_type": "code",
   "execution_count": 10,
   "id": "5bbfb505",
   "metadata": {},
   "outputs": [],
   "source": [
    "stop_words = sw.words()\n",
    "\n",
    "X_train = [[w for w in tokens if not w in stop_words] for tokens in X_train]\n",
    "X_test = [[w for w in tokens if not w in stop_words] for tokens in X_test]"
   ]
  },
  {
   "cell_type": "markdown",
   "id": "94bb908f",
   "metadata": {},
   "source": [
    "### Lemmatisation"
   ]
  },
  {
   "cell_type": "code",
   "execution_count": 11,
   "id": "8921e1dc",
   "metadata": {},
   "outputs": [],
   "source": [
    "lemmatizer = WordNetLemmatizer()\n",
    "\n",
    "X_train = [[lemmatizer.lemmatize(w) for w in tokens] for tokens in X_train]\n",
    "X_test = [[lemmatizer.lemmatize(w) for w in tokens] for tokens in X_test]"
   ]
  },
  {
   "cell_type": "markdown",
   "id": "5835a56b",
   "metadata": {},
   "source": [
    "### Vertorizer"
   ]
  },
  {
   "cell_type": "code",
   "execution_count": 54,
   "id": "78490d37",
   "metadata": {},
   "outputs": [],
   "source": [
    "vectorizer = TfidfVectorizer(analyzer = 'word', tokenizer = lambda x: x, \n",
    "                             preprocessor = lambda x: x, token_pattern = None,\n",
    "                            norm = 'l2')\n",
    "vectorizer.fit(X_train)\n",
    "\n",
    "X_train = vectorizer.transform(X_train)\n",
    "X_test = vectorizer.transform(X_test)"
   ]
  },
  {
   "cell_type": "markdown",
   "id": "a79c909a",
   "metadata": {},
   "source": [
    "### Subseting for hyperparameter tunning"
   ]
  },
  {
   "cell_type": "code",
   "execution_count": 55,
   "id": "2802160e",
   "metadata": {},
   "outputs": [
    {
     "name": "stdout",
     "output_type": "stream",
     "text": [
      "(2250, 125502)\n",
      "(225000, 125502)\n"
     ]
    }
   ],
   "source": [
    "#susbet of training data for hyperparameter selection\n",
    "X_train_hyper, _, y_train_hyper, _ = train_test_split(X_train, y_train, \n",
    "                                                     train_size = 0.01,\n",
    "                                                     stratify = y_train,\n",
    "                                                     random_state = 0)\n",
    "print(X_train_hyper.shape)\n",
    "print(X_train.shape)"
   ]
  },
  {
   "cell_type": "markdown",
   "id": "e795780b",
   "metadata": {},
   "source": [
    "# SVM + logistic regression"
   ]
  },
  {
   "cell_type": "markdown",
   "id": "1e8a67c1",
   "metadata": {},
   "source": [
    "### Result plotting"
   ]
  },
  {
   "cell_type": "markdown",
   "id": "29f46422",
   "metadata": {},
   "source": [
    "Citation for the result plotting for grid search\n",
    "\n",
    "“python - How to graph grid scores from GridSearchCV?” Stack Overflow, https://stackoverflow.com/questions/37161563/how-to-graph-grid-scores-from-gridsearchcv. Accessed 16 May 2023."
   ]
  },
  {
   "cell_type": "code",
   "execution_count": 56,
   "id": "2ce91081",
   "metadata": {},
   "outputs": [],
   "source": [
    "def plot_search_results(grid):\n",
    "    \"\"\"\n",
    "    Params: \n",
    "        grid: A trained GridSearchCV object.\n",
    "    \"\"\"\n",
    "    ## Results from grid search\n",
    "    results = grid.cv_results_\n",
    "    means_test = results['mean_test_score']\n",
    "    stds_test = results['std_test_score']\n",
    "    means_train = results['mean_train_score']\n",
    "    stds_train = results['std_train_score']\n",
    "    mean_fit_time = results['mean_fit_time']\n",
    "    mean_score_time = results['mean_score_time']\n",
    "\n",
    "    ## Getting indexes of values per hyper-parameter\n",
    "    masks=[]\n",
    "    masks_names= list(grid.best_params_.keys())\n",
    "    for p_k, p_v in grid.best_params_.items():\n",
    "        masks.append(list(results['param_'+p_k].data==p_v))\n",
    "\n",
    "    params=grid.param_grid\n",
    "\n",
    "    ## Ploting results\n",
    "    fig, ax = plt.subplots(1,len(params),sharex='none', sharey='all',figsize=(20,5))\n",
    "    fig.suptitle('Score per parameter')\n",
    "    fig.text(0.04, 0.5, 'MEAN SCORE', va='center', rotation='vertical')\n",
    "    pram_preformace_in_best = {}\n",
    "    for i, p in enumerate(masks_names):\n",
    "        m = np.stack(masks[:i] + masks[i+1:])\n",
    "        pram_preformace_in_best\n",
    "        best_parms_mask = m.all(axis=0)\n",
    "        best_index = np.where(best_parms_mask)[0]\n",
    "        x = np.array(params[p])\n",
    "        y_1 = np.array(means_test[best_index])\n",
    "        e_1 = np.array(stds_test[best_index])\n",
    "        y_2 = np.array(means_train[best_index])\n",
    "        e_2 = np.array(stds_train[best_index])\n",
    "        ax[i].errorbar(x, y_1, e_1, linestyle='--', marker='o', label='test')\n",
    "        ax[i].errorbar(x, y_2, e_2, linestyle='-', marker='^',label='train' )\n",
    "        ax[i].set_xlabel(p.upper())\n",
    "\n",
    "    plt.legend()\n",
    "    plt.show()"
   ]
  },
  {
   "cell_type": "markdown",
   "id": "bfd0b063",
   "metadata": {},
   "source": [
    "### Grid search for Logistic regression"
   ]
  },
  {
   "cell_type": "code",
   "execution_count": 57,
   "id": "dce13f83",
   "metadata": {},
   "outputs": [
    {
     "name": "stdout",
     "output_type": "stream",
     "text": [
      "Grid search with solver:  liblinear\n",
      "Fitting 5 folds for each of 10 candidates, totalling 50 fits\n"
     ]
    },
    {
     "data": {
      "image/png": "[encoded data removed]",
      "text/plain": [
       "<Figure size 1440x360 with 3 Axes>"
      ]
     },
     "metadata": {
      "needs_background": "light"
     },
     "output_type": "display_data"
    },
    {
     "name": "stdout",
     "output_type": "stream",
     "text": [
      "Grid search with solver:  sag\n",
      "Fitting 5 folds for each of 5 candidates, totalling 25 fits\n"
     ]
    },
    {
     "data": {
      "image/png": "[encoded data removed]",
      "text/plain": [
       "<Figure size 1440x360 with 3 Axes>"
      ]
     },
     "metadata": {
      "needs_background": "light"
     },
     "output_type": "display_data"
    },
    {
     "name": "stdout",
     "output_type": "stream",
     "text": [
      "Best: 0.764041 using {'C': 1.0, 'penalty': 'l1', 'solver': 'liblinear'}\n"
     ]
    }
   ],
   "source": [
    "solvers = ['liblinear', 'sag']\n",
    "penalties_sag = ['l2']\n",
    "penalties = ['l1', 'l2']\n",
    "c_values = [100, 10, 1.0, 0.1, 0.01]\n",
    "\n",
    "model  = LogisticRegression(max_iter = 10000)\n",
    "best_score = 0\n",
    "best_solver = ''\n",
    "best_params = {}\n",
    "\n",
    "for solver in solvers:\n",
    "    # penalties for liblinear are different than for the other solvers\n",
    "    if solver == 'sag':\n",
    "        penalty = penalties_sag\n",
    "    else:\n",
    "        penalty = penalties\n",
    "        \n",
    "    \n",
    "    print('Grid search with solver: ', solver)\n",
    "    param_grid = dict(solver = [solver], penalty = penalty, C = c_values)\n",
    "    # cv with default n_splits = 5, n_repeats = 10\n",
    "    #cv = RepeatedStratifiedKFold(random_state = 0)\n",
    "    grid_search = GridSearchCV(estimator = model, param_grid = param_grid, \n",
    "                           n_jobs=-1, scoring='f1', verbose = 3,\n",
    "                          return_train_score = True)\n",
    "    grid_result = grid_search.fit(X_train, y_train)\n",
    "    plot_search_results(grid_result)\n",
    "    \n",
    "    score = grid_result.best_score_\n",
    "    params = grid_result.best_params_\n",
    "    \n",
    "    if score > best_score:\n",
    "        best_score = score\n",
    "        best_solver = solver\n",
    "        best_params = params\n",
    "        \n",
    "\n",
    "print(\"Best: %f using %s\" % (best_score, best_params))"
   ]
  },
  {
   "cell_type": "markdown",
   "id": "cfbeb2e4",
   "metadata": {},
   "source": [
    "### Logistic run time and confusion Matrix"
   ]
  },
  {
   "cell_type": "code",
   "execution_count": 16,
   "id": "0edf9641",
   "metadata": {},
   "outputs": [
    {
     "name": "stdout",
     "output_type": "stream",
     "text": [
      "Running time:  0.5534477233886719 s\n",
      "Logistic regresson mean accuracy:  0.75292\n",
      "Logistic regresson f1 score:  0.7626330553740922\n",
      "              precision    recall  f1-score   support\n",
      "\n",
      "           0       0.77      0.71      0.74     37371\n",
      "           1       0.74      0.79      0.76     37629\n",
      "\n",
      "    accuracy                           0.75     75000\n",
      "   macro avg       0.75      0.75      0.75     75000\n",
      "weighted avg       0.75      0.75      0.75     75000\n",
      "\n"
     ]
    },
    {
     "data": {
      "image/png": "[encoded data removed]",
      "text/plain": [
       "<Figure size 432x288 with 2 Axes>"
      ]
     },
     "metadata": {
      "needs_background": "light"
     },
     "output_type": "display_data"
    }
   ],
   "source": [
    "start_time = time.time()\n",
    "lr = LogisticRegression(random_state = 0, max_iter = 10000, solver = 'liblinear', penalty = 'l1', C = 1.0)\n",
    "lr.fit(X_train, y_train)\n",
    "finish_time = time.time()\n",
    "\n",
    "y_pred = lr.predict(X_test)\n",
    "f1 = f1_score(y_test, y_pred)\n",
    "running_time = finish_time - start_time\n",
    "\n",
    "print(\"Running time: \",running_time, 's')\n",
    "print(\"Logistic regresson mean accuracy: \", lr.score(X_test, y_test))\n",
    "print(\"Logistic regresson f1 score: \", f1)\n",
    "\n",
    "print(classification_report(y_test, y_pred))\n",
    "\n",
    "class_labels = ['negative', 'positive']\n",
    "\n",
    "ConfusionMatrixDisplay.from_predictions(y_test, y_pred, \n",
    "                                        display_labels = class_labels,\n",
    "                                       normalize = 'true',\n",
    "                                       cmap = plt.cm.Blues)\n",
    "\n",
    "# plot = plot_confusion_matrix(lr, X_test, y_test, \n",
    "#                              display_labels = None,\n",
    "#                             cmap = plt.cm.Blues,\n",
    "#                             normalize = 'true')\n",
    "# Set plot labels and title\n",
    "plt.xlabel(\"Predicted\")\n",
    "plt.ylabel(\"True\")\n",
    "plt.title(\"Confusion Matrix\")\n",
    "\n",
    "# Show the plot\n",
    "plt.show()"
   ]
  },
  {
   "cell_type": "markdown",
   "id": "b11eeca0",
   "metadata": {},
   "source": [
    "### Grid search for SVM"
   ]
  },
  {
   "cell_type": "code",
   "execution_count": 17,
   "id": "1505fe00",
   "metadata": {},
   "outputs": [
    {
     "name": "stdout",
     "output_type": "stream",
     "text": [
      "Fitting 5 folds for each of 64 candidates, totalling 320 fits\n",
      "Best: 0.667556 using {'C': 1, 'gamma': 1, 'kernel': 'sigmoid'}\n",
      "[[21938 15433]\n",
      " [ 9701 27928]]\n",
      "              precision    recall  f1-score   support\n",
      "\n",
      "           0       0.69      0.59      0.64     37371\n",
      "           1       0.64      0.74      0.69     37629\n",
      "\n",
      "    accuracy                           0.66     75000\n",
      "   macro avg       0.67      0.66      0.66     75000\n",
      "weighted avg       0.67      0.66      0.66     75000\n",
      "\n"
     ]
    }
   ],
   "source": [
    "param_grid = {'C' : [0.1, 1, 10, 100], \n",
    "              'gamma': [1, 0.1, 0.01, 0.001], \n",
    "              'kernel' : ['rbf', 'poly', 'sigmoid', 'linear']}\n",
    "\n",
    "\n",
    "grid = GridSearchCV(SVC(), param_grid, refit=True, verbose=2, n_jobs=-1, return_train_score = True)\n",
    "grid.fit(X_train_hyper, y_train_hyper)\n",
    "print(\"Best: %f using %s\" % (grid.best_score_, grid.best_params_))\n",
    "\n",
    "grid_predictions = grid.predict(X_test)\n",
    "print(confusion_matrix(y_test, grid_predictions))\n",
    "print(classification_report(y_test, grid_predictions))"
   ]
  },
  {
   "cell_type": "code",
   "execution_count": 18,
   "id": "45fa5d0e",
   "metadata": {},
   "outputs": [
    {
     "data": {
      "image/png": "[encoded data removed]",
      "text/plain": [
       "<Figure size 1440x360 with 3 Axes>"
      ]
     },
     "metadata": {
      "needs_background": "light"
     },
     "output_type": "display_data"
    }
   ],
   "source": [
    "plot_search_results(grid)"
   ]
  },
  {
   "cell_type": "markdown",
   "id": "b7865ec4",
   "metadata": {},
   "source": [
    "### SVM Reuslt and Confusion Matrix"
   ]
  },
  {
   "cell_type": "code",
   "execution_count": 19,
   "id": "1ea432e7",
   "metadata": {},
   "outputs": [
    {
     "name": "stdout",
     "output_type": "stream",
     "text": [
      "[LibSVM]Running time:  8935.210934638977 s\n",
      "SVM mean accuracy:  0.7578266666666666\n",
      "SVM f1 score:  0.765502549867665\n",
      "[[27191 10180]\n",
      " [ 7983 29646]]\n",
      "              precision    recall  f1-score   support\n",
      "\n",
      "           0       0.77      0.73      0.75     37371\n",
      "           1       0.74      0.79      0.77     37629\n",
      "\n",
      "    accuracy                           0.76     75000\n",
      "   macro avg       0.76      0.76      0.76     75000\n",
      "weighted avg       0.76      0.76      0.76     75000\n",
      "\n"
     ]
    },
    {
     "data": {
      "image/png": "[encoded data removed]",
      "text/plain": [
       "<Figure size 432x288 with 2 Axes>"
      ]
     },
     "metadata": {
      "needs_background": "light"
     },
     "output_type": "display_data"
    }
   ],
   "source": [
    "start = time.time()\n",
    "svc = SVC(C = 1, gamma = 1, kernel = 'rbf', verbose = True, random_state = 0)\n",
    "svc.fit(X_train, y_train)\n",
    "finish = time.time()\n",
    "\n",
    "running_time = finish - start\n",
    "\n",
    "y_pred = svc.predict(X_test)\n",
    "f1 = f1_score(y_test, y_pred)\n",
    "\n",
    "print(\"Running time: \",running_time, 's')\n",
    "print(\"SVM mean accuracy: \", svc.score(X_test, y_test))\n",
    "print(\"SVM f1 score: \", f1)\n",
    "print(confusion_matrix(y_test, y_pred))\n",
    "print(classification_report(y_test, y_pred))\n",
    "\n",
    "class_labels = ['negative', 'positive']\n",
    "\n",
    "ConfusionMatrixDisplay.from_predictions(y_test, y_pred, \n",
    "                                        display_labels = class_labels,\n",
    "                                       normalize = 'true',\n",
    "                                       cmap = plt.cm.Blues)\n",
    "# Set plot labels and title\n",
    "plt.xlabel(\"Predicted\")\n",
    "plt.ylabel(\"True\")\n",
    "plt.title(\"Confusion Matrix\")\n",
    "\n",
    "# Show the plot\n",
    "plt.show()"
   ]
  },
  {
   "cell_type": "markdown",
   "id": "b258a280",
   "metadata": {},
   "source": [
    "# LSTM"
   ]
  },
  {
   "cell_type": "markdown",
   "id": "ca337fbc",
   "metadata": {},
   "source": [
    "### Pre processing"
   ]
  },
  {
   "cell_type": "markdown",
   "id": "9a45e54d",
   "metadata": {},
   "source": [
    "Citation: \n",
    "Dr. Jonathan Kay Kummerfeld, S1 2023, Lab 4: Word Classification and Machine Learning 2, Lab , COMP 4446 / 5046 Natural Language Processing, University of Sydney, delivered 8 March 2023."
   ]
  },
  {
   "cell_type": "code",
   "execution_count": 12,
   "id": "7b75316c",
   "metadata": {},
   "outputs": [],
   "source": [
    "raw_text = df[\"text\"].tolist()\n",
    "raw_label = df[\"sentiment\"].tolist()\n",
    "\n",
    "from sklearn.model_selection import train_test_split\n",
    "X_train,X_test,y_train,y_test = train_test_split(raw_text,raw_label,test_size=0.25,random_state=42)"
   ]
  },
  {
   "cell_type": "code",
   "execution_count": 13,
   "id": "4fa5d639",
   "metadata": {},
   "outputs": [],
   "source": [
    "X_train = [word_tokenize(s) for s in X_train]\n",
    "X_test = [word_tokenize(s) for s in X_test]"
   ]
  },
  {
   "cell_type": "code",
   "execution_count": 14,
   "id": "12b82fb3",
   "metadata": {},
   "outputs": [],
   "source": [
    "stop_words = sw.words()\n",
    "\n",
    "X_train = [[w for w in tokens if not w in stop_words] for tokens in X_train]\n",
    "X_test = [[w for w in tokens if not w in stop_words] for tokens in X_test]"
   ]
  },
  {
   "cell_type": "code",
   "execution_count": 15,
   "id": "42d06e15",
   "metadata": {},
   "outputs": [],
   "source": [
    "lemmatizer = WordNetLemmatizer()\n",
    "\n",
    "X_train = [[lemmatizer.lemmatize(w) for w in tokens] for tokens in X_train]\n",
    "X_test = [[lemmatizer.lemmatize(w) for w in tokens] for tokens in X_test]"
   ]
  },
  {
   "cell_type": "markdown",
   "id": "7d002f82",
   "metadata": {},
   "source": [
    "### Padding"
   ]
  },
  {
   "cell_type": "code",
   "execution_count": 16,
   "id": "3f40438e",
   "metadata": {},
   "outputs": [
    {
     "name": "stdout",
     "output_type": "stream",
     "text": [
      "Vocabulary Size : 100582\n",
      "Training X Shape: (225000, 30)\n",
      "Testing X Shape: (75000, 30)\n"
     ]
    }
   ],
   "source": [
    "MAX_SEQUENCE_LENGTH = 30\n",
    "tokenizer = Tokenizer()\n",
    "\n",
    "# Train the tokenizer on the training data\n",
    "tokenizer.fit_on_texts(X_train)\n",
    "\n",
    "# Convert the training and testing data into padded sequences\n",
    "x_train = pad_sequences(tokenizer.texts_to_sequences(X_train),\n",
    "                        maxlen = MAX_SEQUENCE_LENGTH)\n",
    "x_test = pad_sequences(tokenizer.texts_to_sequences(X_test),\n",
    "                       maxlen = MAX_SEQUENCE_LENGTH)\n",
    "\n",
    "# Get the word-to-index mapping from the tokenizer\n",
    "word_index = tokenizer.word_index\n",
    "vocab_size = len(tokenizer.word_index) + 1\n",
    "print(\"Vocabulary Size :\", vocab_size)\n",
    "print(\"Training X Shape:\",x_train.shape)\n",
    "print(\"Testing X Shape:\",x_test.shape)"
   ]
  },
  {
   "cell_type": "markdown",
   "id": "40621a28",
   "metadata": {},
   "source": [
    "### Label Encoding"
   ]
  },
  {
   "cell_type": "code",
   "execution_count": 17,
   "id": "955fbd09",
   "metadata": {},
   "outputs": [
    {
     "name": "stdout",
     "output_type": "stream",
     "text": [
      "y_train shape: 225000\n",
      "y_test shape: 225000\n"
     ]
    }
   ],
   "source": [
    "#Get unique labels\n",
    "unique_labels = np.unique(y_train)\n",
    "\n",
    "# Create and fit the label encoder on the unique labels\n",
    "lEnc = LabelEncoder()\n",
    "lEnc.fit(unique_labels)\n",
    "y_train = lEnc.transform(y_train)\n",
    "y_test = lEnc.transform(y_test)\n",
    "\n",
    "n_class = len(unique_labels)\n",
    "print(\"y_train shape:\", len(y_train))\n",
    "print(\"y_test shape:\", len(y_train))"
   ]
  },
  {
   "cell_type": "markdown",
   "id": "1cba28a1",
   "metadata": {},
   "source": [
    "### Embedding"
   ]
  },
  {
   "cell_type": "markdown",
   "id": "f33a8332",
   "metadata": {},
   "source": [
    "Citation: JIGNESH PATEL, \"NLP Beginner - Text Classification using LSTM\", Kaggle, https://www.kaggle.com/code/jarvis11/nlp-beginner-text-classification-using-lstm#Model-Training---LSTM, accessed 14 May 2023"
   ]
  },
  {
   "cell_type": "code",
   "execution_count": 18,
   "id": "badbfad6",
   "metadata": {},
   "outputs": [],
   "source": [
    "# Download the GloVe embeddings\n",
    "url = 'http://nlp.stanford.edu/data/glove.6B.zip'\n",
    "response = requests.get(url)\n",
    "zip_file = zipfile.ZipFile(io.BytesIO(response.content))\n",
    "\n",
    "# Extract the GloVe embeddings\n",
    "zip_file.extractall()\n",
    "zip_file.close()"
   ]
  },
  {
   "cell_type": "code",
   "execution_count": 19,
   "id": "2eb9b14e",
   "metadata": {},
   "outputs": [
    {
     "name": "stderr",
     "output_type": "stream",
     "text": [
      "'wget' is not recognized as an internal or external command,\n",
      "operable program or batch file.\n",
      "'unzip' is not recognized as an internal or external command,\n",
      "operable program or batch file.\n"
     ]
    }
   ],
   "source": [
    "!wget http://nlp.stanford.edu/data/glove.6B.zip\n",
    "!unzip glove.6B.zip"
   ]
  },
  {
   "cell_type": "code",
   "execution_count": 20,
   "id": "7be7ac7d",
   "metadata": {},
   "outputs": [
    {
     "name": "stdout",
     "output_type": "stream",
     "text": [
      "Found 400000 word vectors.\n"
     ]
    }
   ],
   "source": [
    "#Set the embedding dimention and number of epochs\n",
    "EMBEDDING_DIM = 300\n",
    "EPOCHS = 10\n",
    "\n",
    "GLOVE_EMB = 'glove.6B.300d.txt'\n",
    "embeddings_index = {}\n",
    "\n",
    "#Get the words form the GloVe embedding file\n",
    "f = open(GLOVE_EMB, 'r', encoding='utf-8')\n",
    "for line in f:\n",
    "  values = line.split()\n",
    "  word = value = values[0]\n",
    "  coefs = np.asarray(values[1:], dtype='float32')\n",
    "  embeddings_index[word] = coefs\n",
    "f.close()\n",
    "\n",
    "print('Found %s word vectors.' %len(embeddings_index))"
   ]
  },
  {
   "cell_type": "code",
   "execution_count": 21,
   "id": "73e9df49",
   "metadata": {},
   "outputs": [],
   "source": [
    "#Create empty embedding matrix \n",
    "embedding_matrix = np.zeros((vocab_size, EMBEDDING_DIM))\n",
    "\n",
    "#Get the embedding vector from the GloVe matirx defined earlier\n",
    "for word, i in word_index.items():\n",
    "  embedding_vector = embeddings_index.get(word)\n",
    "  if embedding_vector is not None:\n",
    "    embedding_matrix[i] = embedding_vector"
   ]
  },
  {
   "cell_type": "markdown",
   "id": "5ec0b3e2",
   "metadata": {},
   "source": [
    "### Embedding layer"
   ]
  },
  {
   "cell_type": "code",
   "execution_count": 22,
   "id": "f001882e",
   "metadata": {},
   "outputs": [],
   "source": [
    "#Creating embedding layer \n",
    "embedding_layer = tf.keras.layers.Embedding(vocab_size,\n",
    "                                          EMBEDDING_DIM,\n",
    "                                          weights=[embedding_matrix],\n",
    "                                          input_length=MAX_SEQUENCE_LENGTH,\n",
    "                                          trainable=False)"
   ]
  },
  {
   "cell_type": "markdown",
   "id": "d7680202",
   "metadata": {},
   "source": [
    "### Model and hyperparameter tunning"
   ]
  },
  {
   "cell_type": "markdown",
   "id": "41219270",
   "metadata": {},
   "source": [
    "Citation: JIGNESH PATEL, \"NLP Beginner - Text Classification using LSTM\", Kaggle, https://www.kaggle.com/code/jarvis11/nlp-beginner-text-classification-using-lstm#Model-Training---LSTM, accessed 14 May 2023"
   ]
  },
  {
   "cell_type": "code",
   "execution_count": 23,
   "id": "6e044ffa",
   "metadata": {
    "scrolled": true
   },
   "outputs": [
    {
     "name": "stdout",
     "output_type": "stream",
     "text": [
      "Epoch 1/10\n",
      "440/440 [==============================] - 126s 277ms/step - loss: 0.5703 - accuracy: 0.6997 - val_loss: 0.5307 - val_accuracy: 0.7321\n",
      "Epoch 2/10\n",
      "440/440 [==============================] - 123s 280ms/step - loss: 0.5314 - accuracy: 0.7308 - val_loss: 0.5268 - val_accuracy: 0.7391\n",
      "Epoch 3/10\n",
      "440/440 [==============================] - 123s 281ms/step - loss: 0.5147 - accuracy: 0.7429 - val_loss: 0.5131 - val_accuracy: 0.7457\n",
      "Epoch 4/10\n",
      "440/440 [==============================] - 122s 277ms/step - loss: 0.5023 - accuracy: 0.7512 - val_loss: 0.5147 - val_accuracy: 0.7480\n",
      "Epoch 5/10\n",
      "440/440 [==============================] - 120s 272ms/step - loss: 0.4930 - accuracy: 0.7589 - val_loss: 0.5158 - val_accuracy: 0.7461\n",
      "Epoch 6/10\n",
      "440/440 [==============================] - 118s 268ms/step - loss: 0.4847 - accuracy: 0.7639 - val_loss: 0.5116 - val_accuracy: 0.7483\n",
      "Epoch 7/10\n",
      "440/440 [==============================] - 119s 270ms/step - loss: 0.4770 - accuracy: 0.7684 - val_loss: 0.5165 - val_accuracy: 0.7467\n",
      "Epoch 8/10\n",
      "440/440 [==============================] - 117s 266ms/step - loss: 0.4704 - accuracy: 0.7728 - val_loss: 0.5245 - val_accuracy: 0.7466\n",
      "Epoch 9/10\n",
      "440/440 [==============================] - 120s 273ms/step - loss: 0.4651 - accuracy: 0.7753 - val_loss: 0.5153 - val_accuracy: 0.7451\n",
      "Epoch 10/10\n",
      "440/440 [==============================] - 118s 267ms/step - loss: 0.4589 - accuracy: 0.7793 - val_loss: 0.5186 - val_accuracy: 0.7454\n",
      "Epoch 1/10\n",
      "440/440 [==============================] - 115s 253ms/step - loss: 0.5802 - accuracy: 0.6901 - val_loss: 0.5375 - val_accuracy: 0.7288\n",
      "Epoch 2/10\n",
      "440/440 [==============================] - 104s 237ms/step - loss: 0.5431 - accuracy: 0.7217 - val_loss: 0.5243 - val_accuracy: 0.7375\n",
      "Epoch 3/10\n",
      "440/440 [==============================] - 104s 235ms/step - loss: 0.5286 - accuracy: 0.7338 - val_loss: 0.5158 - val_accuracy: 0.7420\n",
      "Epoch 4/10\n",
      "440/440 [==============================] - 104s 237ms/step - loss: 0.5182 - accuracy: 0.7402 - val_loss: 0.5156 - val_accuracy: 0.7430\n",
      "Epoch 5/10\n",
      "440/440 [==============================] - 106s 240ms/step - loss: 0.5102 - accuracy: 0.7466 - val_loss: 0.5123 - val_accuracy: 0.7452\n",
      "Epoch 6/10\n",
      "440/440 [==============================] - 105s 240ms/step - loss: 0.5034 - accuracy: 0.7506 - val_loss: 0.5129 - val_accuracy: 0.7461\n",
      "Epoch 7/10\n",
      "440/440 [==============================] - 105s 238ms/step - loss: 0.4984 - accuracy: 0.7537 - val_loss: 0.5094 - val_accuracy: 0.7461\n",
      "Epoch 8/10\n",
      "440/440 [==============================] - 106s 240ms/step - loss: 0.4932 - accuracy: 0.7567 - val_loss: 0.5104 - val_accuracy: 0.7470\n",
      "Epoch 9/10\n",
      "440/440 [==============================] - 106s 241ms/step - loss: 0.4896 - accuracy: 0.7597 - val_loss: 0.5124 - val_accuracy: 0.7471\n",
      "Epoch 10/10\n",
      "440/440 [==============================] - 105s 238ms/step - loss: 0.4848 - accuracy: 0.7631 - val_loss: 0.5141 - val_accuracy: 0.7470\n",
      "Epoch 1/10\n",
      "220/220 [==============================] - 208s 932ms/step - loss: 0.5793 - accuracy: 0.6896 - val_loss: 0.5367 - val_accuracy: 0.7288\n",
      "Epoch 2/10\n",
      "220/220 [==============================] - 193s 875ms/step - loss: 0.5358 - accuracy: 0.7267 - val_loss: 0.5217 - val_accuracy: 0.7375\n",
      "Epoch 3/10\n",
      "220/220 [==============================] - 187s 851ms/step - loss: 0.5193 - accuracy: 0.7394 - val_loss: 0.5204 - val_accuracy: 0.7397\n",
      "Epoch 4/10\n",
      "220/220 [==============================] - 181s 822ms/step - loss: 0.5061 - accuracy: 0.7500 - val_loss: 0.5141 - val_accuracy: 0.7429\n",
      "Epoch 5/10\n",
      "220/220 [==============================] - 177s 806ms/step - loss: 0.4965 - accuracy: 0.7555 - val_loss: 0.5125 - val_accuracy: 0.7437\n",
      "Epoch 6/10\n",
      "220/220 [==============================] - 176s 802ms/step - loss: 0.4892 - accuracy: 0.7610 - val_loss: 0.5146 - val_accuracy: 0.7433\n",
      "Epoch 7/10\n",
      "220/220 [==============================] - 175s 797ms/step - loss: 0.4820 - accuracy: 0.7658 - val_loss: 0.5160 - val_accuracy: 0.7447\n",
      "Epoch 8/10\n",
      "220/220 [==============================] - 178s 809ms/step - loss: 0.4754 - accuracy: 0.7697 - val_loss: 0.5198 - val_accuracy: 0.7432\n",
      "Epoch 9/10\n",
      "220/220 [==============================] - 177s 804ms/step - loss: 0.4704 - accuracy: 0.7732 - val_loss: 0.5201 - val_accuracy: 0.7413\n",
      "Epoch 10/10\n",
      "220/220 [==============================] - 178s 809ms/step - loss: 0.4639 - accuracy: 0.7771 - val_loss: 0.5234 - val_accuracy: 0.7411\n",
      "Epoch 1/10\n",
      "220/220 [==============================] - 253s 1s/step - loss: 0.5891 - accuracy: 0.6816 - val_loss: 0.5484 - val_accuracy: 0.7154\n",
      "Epoch 2/10\n",
      "220/220 [==============================] - 193s 878ms/step - loss: 0.5480 - accuracy: 0.7180 - val_loss: 0.5261 - val_accuracy: 0.7346\n",
      "Epoch 3/10\n",
      "220/220 [==============================] - 191s 867ms/step - loss: 0.5333 - accuracy: 0.7304 - val_loss: 0.5211 - val_accuracy: 0.7402\n",
      "Epoch 4/10\n",
      "220/220 [==============================] - 188s 857ms/step - loss: 0.5228 - accuracy: 0.7369 - val_loss: 0.5150 - val_accuracy: 0.7427\n",
      "Epoch 5/10\n",
      "220/220 [==============================] - 189s 861ms/step - loss: 0.5150 - accuracy: 0.7417 - val_loss: 0.5126 - val_accuracy: 0.7446\n",
      "Epoch 6/10\n",
      "220/220 [==============================] - 188s 855ms/step - loss: 0.5089 - accuracy: 0.7470 - val_loss: 0.5127 - val_accuracy: 0.7452\n",
      "Epoch 7/10\n",
      "220/220 [==============================] - 188s 856ms/step - loss: 0.5019 - accuracy: 0.7516 - val_loss: 0.5103 - val_accuracy: 0.7466\n",
      "Epoch 8/10\n",
      "220/220 [==============================] - 187s 851ms/step - loss: 0.4976 - accuracy: 0.7541 - val_loss: 0.5091 - val_accuracy: 0.7460\n",
      "Epoch 9/10\n",
      "220/220 [==============================] - 187s 851ms/step - loss: 0.4926 - accuracy: 0.7587 - val_loss: 0.5146 - val_accuracy: 0.7470\n",
      "Epoch 10/10\n",
      "220/220 [==============================] - 186s 847ms/step - loss: 0.4891 - accuracy: 0.7610 - val_loss: 0.5146 - val_accuracy: 0.7476\n",
      "Epoch 1/10\n",
      "440/440 [==============================] - 469s 1s/step - loss: 0.5702 - accuracy: 0.7011 - val_loss: 0.5307 - val_accuracy: 0.7323\n",
      "Epoch 2/10\n",
      "440/440 [==============================] - 442s 1s/step - loss: 0.5332 - accuracy: 0.7315 - val_loss: 0.5271 - val_accuracy: 0.7398\n",
      "Epoch 3/10\n",
      "440/440 [==============================] - 435s 989ms/step - loss: 0.5203 - accuracy: 0.7400 - val_loss: 0.5208 - val_accuracy: 0.7420\n",
      "Epoch 4/10\n",
      "440/440 [==============================] - 435s 990ms/step - loss: 0.5139 - accuracy: 0.7446 - val_loss: 0.5197 - val_accuracy: 0.7430\n",
      "Epoch 5/10\n",
      "440/440 [==============================] - 436s 990ms/step - loss: 0.5083 - accuracy: 0.7476 - val_loss: 0.5217 - val_accuracy: 0.7419\n",
      "Epoch 6/10\n",
      "440/440 [==============================] - 435s 988ms/step - loss: 0.5038 - accuracy: 0.7500 - val_loss: 0.5200 - val_accuracy: 0.7447\n",
      "Epoch 7/10\n",
      "440/440 [==============================] - 435s 990ms/step - loss: 0.5009 - accuracy: 0.7535 - val_loss: 0.5207 - val_accuracy: 0.7429\n",
      "Epoch 8/10\n",
      "440/440 [==============================] - 436s 991ms/step - loss: 0.4981 - accuracy: 0.7556 - val_loss: 0.5300 - val_accuracy: 0.7451\n",
      "Epoch 9/10\n",
      "440/440 [==============================] - 435s 989ms/step - loss: 0.4958 - accuracy: 0.7569 - val_loss: 0.5186 - val_accuracy: 0.7438\n",
      "Epoch 10/10\n",
      "440/440 [==============================] - 437s 994ms/step - loss: 0.4938 - accuracy: 0.7595 - val_loss: 0.5289 - val_accuracy: 0.7429\n",
      "Epoch 1/10\n",
      "440/440 [==============================] - 298s 670ms/step - loss: 0.5836 - accuracy: 0.6903 - val_loss: 0.5367 - val_accuracy: 0.7294\n",
      "Epoch 2/10\n",
      "440/440 [==============================] - 248s 565ms/step - loss: 0.5433 - accuracy: 0.7225 - val_loss: 0.5334 - val_accuracy: 0.7364\n",
      "Epoch 3/10\n",
      "440/440 [==============================] - 249s 567ms/step - loss: 0.5341 - accuracy: 0.7299 - val_loss: 0.5233 - val_accuracy: 0.7370\n",
      "Epoch 4/10\n",
      "440/440 [==============================] - 250s 568ms/step - loss: 0.5278 - accuracy: 0.7338 - val_loss: 0.5372 - val_accuracy: 0.7404\n",
      "Epoch 5/10\n",
      "440/440 [==============================] - 242s 550ms/step - loss: 0.5235 - accuracy: 0.7372 - val_loss: 0.5222 - val_accuracy: 0.7420\n",
      "Epoch 6/10\n",
      "440/440 [==============================] - 241s 547ms/step - loss: 0.5215 - accuracy: 0.7389 - val_loss: 0.5194 - val_accuracy: 0.7391\n",
      "Epoch 7/10\n",
      "440/440 [==============================] - 241s 547ms/step - loss: 0.5185 - accuracy: 0.7418 - val_loss: 0.5174 - val_accuracy: 0.7416\n",
      "Epoch 8/10\n",
      "440/440 [==============================] - 239s 544ms/step - loss: 0.5175 - accuracy: 0.7419 - val_loss: 0.5247 - val_accuracy: 0.7425\n",
      "Epoch 9/10\n",
      "440/440 [==============================] - 241s 548ms/step - loss: 0.5156 - accuracy: 0.7424 - val_loss: 0.5191 - val_accuracy: 0.7423\n",
      "Epoch 10/10\n",
      "440/440 [==============================] - 244s 555ms/step - loss: 0.5147 - accuracy: 0.7433 - val_loss: 0.5294 - val_accuracy: 0.7436\n",
      "Epoch 1/10\n",
      "220/220 [==============================] - 285s 1s/step - loss: 0.5729 - accuracy: 0.6973 - val_loss: 0.5310 - val_accuracy: 0.7320\n",
      "Epoch 2/10\n",
      "220/220 [==============================] - 282s 1s/step - loss: 0.5325 - accuracy: 0.7309 - val_loss: 0.5240 - val_accuracy: 0.7364\n",
      "Epoch 3/10\n",
      "220/220 [==============================] - 281s 1s/step - loss: 0.5175 - accuracy: 0.7407 - val_loss: 0.5204 - val_accuracy: 0.7435\n",
      "Epoch 4/10\n",
      "220/220 [==============================] - 274s 1s/step - loss: 0.5081 - accuracy: 0.7484 - val_loss: 0.5212 - val_accuracy: 0.7407\n",
      "Epoch 5/10\n",
      "220/220 [==============================] - 272s 1s/step - loss: 0.5004 - accuracy: 0.7522 - val_loss: 0.5198 - val_accuracy: 0.7430\n",
      "Epoch 6/10\n",
      "220/220 [==============================] - 270s 1s/step - loss: 0.4950 - accuracy: 0.7573 - val_loss: 0.5232 - val_accuracy: 0.7424\n",
      "Epoch 7/10\n",
      "220/220 [==============================] - 271s 1s/step - loss: 0.4896 - accuracy: 0.7602 - val_loss: 0.5210 - val_accuracy: 0.7428\n",
      "Epoch 8/10\n",
      "220/220 [==============================] - 272s 1s/step - loss: 0.4855 - accuracy: 0.7635 - val_loss: 0.5214 - val_accuracy: 0.7415\n",
      "Epoch 9/10\n",
      "220/220 [==============================] - 272s 1s/step - loss: 0.4820 - accuracy: 0.7660 - val_loss: 0.5242 - val_accuracy: 0.7387\n",
      "Epoch 10/10\n",
      "220/220 [==============================] - 271s 1s/step - loss: 0.4785 - accuracy: 0.7686 - val_loss: 0.5236 - val_accuracy: 0.7423\n",
      "Epoch 1/10\n",
      "220/220 [==============================] - 344s 2s/step - loss: 0.5883 - accuracy: 0.6839 - val_loss: 0.5412 - val_accuracy: 0.7239\n",
      "Epoch 2/10\n",
      "220/220 [==============================] - 330s 2s/step - loss: 0.5463 - accuracy: 0.7198 - val_loss: 0.5253 - val_accuracy: 0.7358\n",
      "Epoch 3/10\n",
      "220/220 [==============================] - 331s 2s/step - loss: 0.5340 - accuracy: 0.7306 - val_loss: 0.5281 - val_accuracy: 0.7394\n",
      "Epoch 4/10\n",
      "220/220 [==============================] - 331s 2s/step - loss: 0.5252 - accuracy: 0.7364 - val_loss: 0.5228 - val_accuracy: 0.7428\n",
      "Epoch 5/10\n",
      "220/220 [==============================] - 332s 2s/step - loss: 0.5199 - accuracy: 0.7394 - val_loss: 0.5206 - val_accuracy: 0.7407\n",
      "Epoch 6/10\n",
      "220/220 [==============================] - 331s 2s/step - loss: 0.5164 - accuracy: 0.7427 - val_loss: 0.5187 - val_accuracy: 0.7446\n",
      "Epoch 7/10\n",
      "220/220 [==============================] - 332s 2s/step - loss: 0.5118 - accuracy: 0.7454 - val_loss: 0.5228 - val_accuracy: 0.7429\n",
      "Epoch 8/10\n",
      "220/220 [==============================] - 331s 2s/step - loss: 0.5089 - accuracy: 0.7475 - val_loss: 0.5221 - val_accuracy: 0.7454\n",
      "Epoch 9/10\n",
      "220/220 [==============================] - 330s 2s/step - loss: 0.5074 - accuracy: 0.7490 - val_loss: 0.5172 - val_accuracy: 0.7438\n",
      "Epoch 10/10\n",
      "220/220 [==============================] - 331s 2s/step - loss: 0.5052 - accuracy: 0.7505 - val_loss: 0.5207 - val_accuracy: 0.7431\n",
      "Hyperparameters: {'learning_rate': 0.001, 'batch_size': 1024, 'dropout_rate': 0.3, 'accuracy': 0.7475600242614746, 'running_time': 1951.2940896}\n",
      "Hyperparameters: {'learning_rate': 0.001, 'batch_size': 512, 'dropout_rate': 0.3, 'accuracy': 0.746999979019165, 'running_time': 1058.91739}\n",
      "Hyperparameters: {'learning_rate': 0.001, 'batch_size': 512, 'dropout_rate': 0.2, 'accuracy': 0.7454133629798889, 'running_time': 1206.1001467}\n",
      "Hyperparameters: {'learning_rate': 0.01, 'batch_size': 512, 'dropout_rate': 0.3, 'accuracy': 0.7436266541481018, 'running_time': 2493.4072201}\n",
      "Hyperparameters: {'learning_rate': 0.01, 'batch_size': 1024, 'dropout_rate': 0.3, 'accuracy': 0.743066668510437, 'running_time': 3322.9441625}\n",
      "Hyperparameters: {'learning_rate': 0.01, 'batch_size': 512, 'dropout_rate': 0.2, 'accuracy': 0.7429466843605042, 'running_time': 4395.9480424}\n",
      "Hyperparameters: {'learning_rate': 0.01, 'batch_size': 1024, 'dropout_rate': 0.2, 'accuracy': 0.742306649684906, 'running_time': 2748.984845500001}\n",
      "Hyperparameters: {'learning_rate': 0.001, 'batch_size': 1024, 'dropout_rate': 0.2, 'accuracy': 0.7411466836929321, 'running_time': 1829.8683735}\n"
     ]
    }
   ],
   "source": [
    "# Define the create_model function\n",
    "def create_model(learning_rate, batch_size, dropout_rate):\n",
    "    #set a timer for run time \n",
    "    start_time = timeit.default_timer()\n",
    "    sequence_input = Input(shape=(MAX_SEQUENCE_LENGTH,), dtype='int32')\n",
    "    embedding_sequences = embedding_layer(sequence_input)\n",
    "    #Apply spatial dropout to the embedded sequences\n",
    "    x = SpatialDropout1D(dropout_rate)(embedding_sequences)\n",
    "    #Apply a 1D convolutional layer with 64 filters and a filter size of 5\n",
    "    x = Conv1D(64, 5, activation='relu')(x)\n",
    "    #Apply a bidirectional LSTM layer with 64 units\n",
    "    x = Bidirectional(LSTM(64, dropout=dropout_rate, recurrent_dropout=dropout_rate))(x)\n",
    "    #Apply a dense layer with 512 units and ReLU activation function\n",
    "    x = Dense(512, activation='relu')(x)\n",
    "    #Apply dropout to the dense layer\n",
    "    x = Dropout(dropout_rate)(x)\n",
    "    # Apply a dense layer with 512 units and ReLU activation function\n",
    "    x = Dense(512, activation='relu')(x)\n",
    "    #Output layer with activation function sigmoid\n",
    "    outputs = Dense(1, activation='sigmoid')(x)\n",
    "\n",
    "    model = tf.keras.Model(sequence_input, outputs)\n",
    "    model.compile(optimizer=Adam(learning_rate=learning_rate), loss='binary_crossentropy', metrics=['accuracy'])\n",
    "\n",
    "    # Train the model \n",
    "    \n",
    "    history = model.fit(x_train, y_train, batch_size=batch_size, epochs=10,\n",
    "                        validation_data=(x_test, y_test))\n",
    "    #Stop timer for runtime \n",
    "    stop_time = timeit.default_timer()\n",
    "    model_accuracy = history.history['val_accuracy'][-1]\n",
    "    runing_time = stop_time - start_time\n",
    "    return model, model_accuracy, runing_time\n",
    "\n",
    "\n",
    "results = []\n",
    "\n",
    "# Iterate over all combinations of hyperparameters\n",
    "for learning_rate in [0.001, 0.01]:\n",
    "    for batch_size in [512, 1024]:\n",
    "        for dropout_rate in [0.2, 0.3]:\n",
    "            # Create the model\n",
    "            model, model_accuracy, running_time = create_model(learning_rate, batch_size, dropout_rate)\n",
    "            # Store the results\n",
    "            results.append({\n",
    "            #'embedding_dim': embedding_dim,\n",
    "                'learning_rate': learning_rate,\n",
    "                'batch_size': batch_size,\n",
    "                'dropout_rate': dropout_rate,\n",
    "                'accuracy': model_accuracy,\n",
    "                'running_time': running_time\n",
    "            })\n",
    "\n",
    "# Sort the results by accuracy in descending order\n",
    "results = sorted(results, key=lambda x: x['accuracy'], reverse=True)\n",
    "\n",
    "# Print the results\n",
    "for result in results:\n",
    "    print(\"Hyperparameters:\", result)"
   ]
  },
  {
   "cell_type": "markdown",
   "id": "64daedb9",
   "metadata": {},
   "source": [
    "### Plot"
   ]
  },
  {
   "cell_type": "code",
   "execution_count": 36,
   "id": "6a058dc5",
   "metadata": {},
   "outputs": [
    {
     "data": {
      "application/vnd.plotly.v1+json": {
       "config": {
        "plotlyServerURL": "https://plot.ly"
       },
       "data": [
        {
         "alignmentgroup": "True",
         "cliponaxis": false,
         "hovertemplate": "Hyperparameters=%{x}<br>Accuracy=%{y}<br>Run-time (Seconds)=%{marker.color}<extra></extra>",
         "legendgroup": "",
         "marker": {
          "color": [
           1951.2940896,
           1058.91739,
           1206.1001467,
           2493.4072201,
           3322.9441625,
           4395.9480424,
           2748.984845500001,
           1829.8683735
          ],
          "coloraxis": "coloraxis",
          "pattern": {
           "shape": ""
          }
         },
         "name": "",
         "offsetgroup": "",
         "orientation": "v",
         "showlegend": false,
         "textangle": 0,
         "textfont": {
          "size": 10
         },
         "textposition": "outside",
         "texttemplate": "%{y:.3f}",
         "type": "bar",
         "x": [
          "lr=0.001 bs=1024 dr=0.3",
          "lr=0.001 bs=512 dr=0.3",
          "lr=0.001 bs=512 dr=0.2",
          "lr=0.01 bs=512 dr=0.3",
          "lr=0.01 bs=1024 dr=0.3",
          "lr=0.01 bs=512 dr=0.2",
          "lr=0.01 bs=1024 dr=0.2",
          "lr=0.001 bs=1024 dr=0.2"
         ],
         "xaxis": "x",
         "y": [
          0.7475600242614746,
          0.746999979019165,
          0.7454133629798889,
          0.7436266541481018,
          0.743066668510437,
          0.7429466843605042,
          0.742306649684906,
          0.7411466836929321
         ],
         "yaxis": "y"
        }
       ],
       "layout": {
        "barmode": "relative",
        "coloraxis": {
         "colorbar": {
          "title": {
           "text": "Run-time (Seconds)"
          }
         },
         "colorscale": [
          [
           0,
           "#0d0887"
          ],
          [
           0.1111111111111111,
           "#46039f"
          ],
          [
           0.2222222222222222,
           "#7201a8"
          ],
          [
           0.3333333333333333,
           "#9c179e"
          ],
          [
           0.4444444444444444,
           "#bd3786"
          ],
          [
           0.5555555555555556,
           "#d8576b"
          ],
          [
           0.6666666666666666,
           "#ed7953"
          ],
          [
           0.7777777777777778,
           "#fb9f3a"
          ],
          [
           0.8888888888888888,
           "#fdca26"
          ],
          [
           1,
           "#f0f921"
          ]
         ]
        },
        "height": 400,
        "legend": {
         "tracegroupgap": 0
        },
        "template": {
         "data": {
          "bar": [
           {
            "error_x": {
             "color": "#2a3f5f"
            },
            "error_y": {
             "color": "#2a3f5f"
            },
            "marker": {
             "line": {
              "color": "#E5ECF6",
              "width": 0.5
             },
             "pattern": {
              "fillmode": "overlay",
              "size": 10,
              "solidity": 0.2
             }
            },
            "type": "bar"
           }
          ],
          "barpolar": [
           {
            "marker": {
             "line": {
              "color": "#E5ECF6",
              "width": 0.5
             },
             "pattern": {
              "fillmode": "overlay",
              "size": 10,
              "solidity": 0.2
             }
            },
            "type": "barpolar"
           }
          ],
          "carpet": [
           {
            "aaxis": {
             "endlinecolor": "#2a3f5f",
             "gridcolor": "white",
             "linecolor": "white",
             "minorgridcolor": "white",
             "startlinecolor": "#2a3f5f"
            },
            "baxis": {
             "endlinecolor": "#2a3f5f",
             "gridcolor": "white",
             "linecolor": "white",
             "minorgridcolor": "white",
             "startlinecolor": "#2a3f5f"
            },
            "type": "carpet"
           }
          ],
          "choropleth": [
           {
            "colorbar": {
             "outlinewidth": 0,
             "ticks": ""
            },
            "type": "choropleth"
           }
          ],
          "contour": [
           {
            "colorbar": {
             "outlinewidth": 0,
             "ticks": ""
            },
            "colorscale": [
             [
              0,
              "#0d0887"
             ],
             [
              0.1111111111111111,
              "#46039f"
             ],
             [
              0.2222222222222222,
              "#7201a8"
             ],
             [
              0.3333333333333333,
              "#9c179e"
             ],
             [
              0.4444444444444444,
              "#bd3786"
             ],
             [
              0.5555555555555556,
              "#d8576b"
             ],
             [
              0.6666666666666666,
              "#ed7953"
             ],
             [
              0.7777777777777778,
              "#fb9f3a"
             ],
             [
              0.8888888888888888,
              "#fdca26"
             ],
             [
              1,
              "#f0f921"
             ]
            ],
            "type": "contour"
           }
          ],
          "contourcarpet": [
           {
            "colorbar": {
             "outlinewidth": 0,
             "ticks": ""
            },
            "type": "contourcarpet"
           }
          ],
          "heatmap": [
           {
            "colorbar": {
             "outlinewidth": 0,
             "ticks": ""
            },
            "colorscale": [
             [
              0,
              "#0d0887"
             ],
             [
              0.1111111111111111,
              "#46039f"
             ],
             [
              0.2222222222222222,
              "#7201a8"
             ],
             [
              0.3333333333333333,
              "#9c179e"
             ],
             [
              0.4444444444444444,
              "#bd3786"
             ],
             [
              0.5555555555555556,
              "#d8576b"
             ],
             [
              0.6666666666666666,
              "#ed7953"
             ],
             [
              0.7777777777777778,
              "#fb9f3a"
             ],
             [
              0.8888888888888888,
              "#fdca26"
             ],
             [
              1,
              "#f0f921"
             ]
            ],
            "type": "heatmap"
           }
          ],
          "heatmapgl": [
           {
            "colorbar": {
             "outlinewidth": 0,
             "ticks": ""
            },
            "colorscale": [
             [
              0,
              "#0d0887"
             ],
             [
              0.1111111111111111,
              "#46039f"
             ],
             [
              0.2222222222222222,
              "#7201a8"
             ],
             [
              0.3333333333333333,
              "#9c179e"
             ],
             [
              0.4444444444444444,
              "#bd3786"
             ],
             [
              0.5555555555555556,
              "#d8576b"
             ],
             [
              0.6666666666666666,
              "#ed7953"
             ],
             [
              0.7777777777777778,
              "#fb9f3a"
             ],
             [
              0.8888888888888888,
              "#fdca26"
             ],
             [
              1,
              "#f0f921"
             ]
            ],
            "type": "heatmapgl"
           }
          ],
          "histogram": [
           {
            "marker": {
             "pattern": {
              "fillmode": "overlay",
              "size": 10,
              "solidity": 0.2
             }
            },
            "type": "histogram"
           }
          ],
          "histogram2d": [
           {
            "colorbar": {
             "outlinewidth": 0,
             "ticks": ""
            },
            "colorscale": [
             [
              0,
              "#0d0887"
             ],
             [
              0.1111111111111111,
              "#46039f"
             ],
             [
              0.2222222222222222,
              "#7201a8"
             ],
             [
              0.3333333333333333,
              "#9c179e"
             ],
             [
              0.4444444444444444,
              "#bd3786"
             ],
             [
              0.5555555555555556,
              "#d8576b"
             ],
             [
              0.6666666666666666,
              "#ed7953"
             ],
             [
              0.7777777777777778,
              "#fb9f3a"
             ],
             [
              0.8888888888888888,
              "#fdca26"
             ],
             [
              1,
              "#f0f921"
             ]
            ],
            "type": "histogram2d"
           }
          ],
          "histogram2dcontour": [
           {
            "colorbar": {
             "outlinewidth": 0,
             "ticks": ""
            },
            "colorscale": [
             [
              0,
              "#0d0887"
             ],
             [
              0.1111111111111111,
              "#46039f"
             ],
             [
              0.2222222222222222,
              "#7201a8"
             ],
             [
              0.3333333333333333,
              "#9c179e"
             ],
             [
              0.4444444444444444,
              "#bd3786"
             ],
             [
              0.5555555555555556,
              "#d8576b"
             ],
             [
              0.6666666666666666,
              "#ed7953"
             ],
             [
              0.7777777777777778,
              "#fb9f3a"
             ],
             [
              0.8888888888888888,
              "#fdca26"
             ],
             [
              1,
              "#f0f921"
             ]
            ],
            "type": "histogram2dcontour"
           }
          ],
          "mesh3d": [
           {
            "colorbar": {
             "outlinewidth": 0,
             "ticks": ""
            },
            "type": "mesh3d"
           }
          ],
          "parcoords": [
           {
            "line": {
             "colorbar": {
              "outlinewidth": 0,
              "ticks": ""
             }
            },
            "type": "parcoords"
           }
          ],
          "pie": [
           {
            "automargin": true,
            "type": "pie"
           }
          ],
          "scatter": [
           {
            "fillpattern": {
             "fillmode": "overlay",
             "size": 10,
             "solidity": 0.2
            },
            "type": "scatter"
           }
          ],
          "scatter3d": [
           {
            "line": {
             "colorbar": {
              "outlinewidth": 0,
              "ticks": ""
             }
            },
            "marker": {
             "colorbar": {
              "outlinewidth": 0,
              "ticks": ""
             }
            },
            "type": "scatter3d"
           }
          ],
          "scattercarpet": [
           {
            "marker": {
             "colorbar": {
              "outlinewidth": 0,
              "ticks": ""
             }
            },
            "type": "scattercarpet"
           }
          ],
          "scattergeo": [
           {
            "marker": {
             "colorbar": {
              "outlinewidth": 0,
              "ticks": ""
             }
            },
            "type": "scattergeo"
           }
          ],
          "scattergl": [
           {
            "marker": {
             "colorbar": {
              "outlinewidth": 0,
              "ticks": ""
             }
            },
            "type": "scattergl"
           }
          ],
          "scattermapbox": [
           {
            "marker": {
             "colorbar": {
              "outlinewidth": 0,
              "ticks": ""
             }
            },
            "type": "scattermapbox"
           }
          ],
          "scatterpolar": [
           {
            "marker": {
             "colorbar": {
              "outlinewidth": 0,
              "ticks": ""
             }
            },
            "type": "scatterpolar"
           }
          ],
          "scatterpolargl": [
           {
            "marker": {
             "colorbar": {
              "outlinewidth": 0,
              "ticks": ""
             }
            },
            "type": "scatterpolargl"
           }
          ],
          "scatterternary": [
           {
            "marker": {
             "colorbar": {
              "outlinewidth": 0,
              "ticks": ""
             }
            },
            "type": "scatterternary"
           }
          ],
          "surface": [
           {
            "colorbar": {
             "outlinewidth": 0,
             "ticks": ""
            },
            "colorscale": [
             [
              0,
              "#0d0887"
             ],
             [
              0.1111111111111111,
              "#46039f"
             ],
             [
              0.2222222222222222,
              "#7201a8"
             ],
             [
              0.3333333333333333,
              "#9c179e"
             ],
             [
              0.4444444444444444,
              "#bd3786"
             ],
             [
              0.5555555555555556,
              "#d8576b"
             ],
             [
              0.6666666666666666,
              "#ed7953"
             ],
             [
              0.7777777777777778,
              "#fb9f3a"
             ],
             [
              0.8888888888888888,
              "#fdca26"
             ],
             [
              1,
              "#f0f921"
             ]
            ],
            "type": "surface"
           }
          ],
          "table": [
           {
            "cells": {
             "fill": {
              "color": "#EBF0F8"
             },
             "line": {
              "color": "white"
             }
            },
            "header": {
             "fill": {
              "color": "#C8D4E3"
             },
             "line": {
              "color": "white"
             }
            },
            "type": "table"
           }
          ]
         },
         "layout": {
          "annotationdefaults": {
           "arrowcolor": "#2a3f5f",
           "arrowhead": 0,
           "arrowwidth": 1
          },
          "autotypenumbers": "strict",
          "coloraxis": {
           "colorbar": {
            "outlinewidth": 0,
            "ticks": ""
           }
          },
          "colorscale": {
           "diverging": [
            [
             0,
             "#8e0152"
            ],
            [
             0.1,
             "#c51b7d"
            ],
            [
             0.2,
             "#de77ae"
            ],
            [
             0.3,
             "#f1b6da"
            ],
            [
             0.4,
             "#fde0ef"
            ],
            [
             0.5,
             "#f7f7f7"
            ],
            [
             0.6,
             "#e6f5d0"
            ],
            [
             0.7,
             "#b8e186"
            ],
            [
             0.8,
             "#7fbc41"
            ],
            [
             0.9,
             "#4d9221"
            ],
            [
             1,
             "#276419"
            ]
           ],
           "sequential": [
            [
             0,
             "#0d0887"
            ],
            [
             0.1111111111111111,
             "#46039f"
            ],
            [
             0.2222222222222222,
             "#7201a8"
            ],
            [
             0.3333333333333333,
             "#9c179e"
            ],
            [
             0.4444444444444444,
             "#bd3786"
            ],
            [
             0.5555555555555556,
             "#d8576b"
            ],
            [
             0.6666666666666666,
             "#ed7953"
            ],
            [
             0.7777777777777778,
             "#fb9f3a"
            ],
            [
             0.8888888888888888,
             "#fdca26"
            ],
            [
             1,
             "#f0f921"
            ]
           ],
           "sequentialminus": [
            [
             0,
             "#0d0887"
            ],
            [
             0.1111111111111111,
             "#46039f"
            ],
            [
             0.2222222222222222,
             "#7201a8"
            ],
            [
             0.3333333333333333,
             "#9c179e"
            ],
            [
             0.4444444444444444,
             "#bd3786"
            ],
            [
             0.5555555555555556,
             "#d8576b"
            ],
            [
             0.6666666666666666,
             "#ed7953"
            ],
            [
             0.7777777777777778,
             "#fb9f3a"
            ],
            [
             0.8888888888888888,
             "#fdca26"
            ],
            [
             1,
             "#f0f921"
            ]
           ]
          },
          "colorway": [
           "#636efa",
           "#EF553B",
           "#00cc96",
           "#ab63fa",
           "#FFA15A",
           "#19d3f3",
           "#FF6692",
           "#B6E880",
           "#FF97FF",
           "#FECB52"
          ],
          "font": {
           "color": "#2a3f5f"
          },
          "geo": {
           "bgcolor": "white",
           "lakecolor": "white",
           "landcolor": "#E5ECF6",
           "showlakes": true,
           "showland": true,
           "subunitcolor": "white"
          },
          "hoverlabel": {
           "align": "left"
          },
          "hovermode": "closest",
          "mapbox": {
           "style": "light"
          },
          "paper_bgcolor": "white",
          "plot_bgcolor": "#E5ECF6",
          "polar": {
           "angularaxis": {
            "gridcolor": "white",
            "linecolor": "white",
            "ticks": ""
           },
           "bgcolor": "#E5ECF6",
           "radialaxis": {
            "gridcolor": "white",
            "linecolor": "white",
            "ticks": ""
           }
          },
          "scene": {
           "xaxis": {
            "backgroundcolor": "#E5ECF6",
            "gridcolor": "white",
            "gridwidth": 2,
            "linecolor": "white",
            "showbackground": true,
            "ticks": "",
            "zerolinecolor": "white"
           },
           "yaxis": {
            "backgroundcolor": "#E5ECF6",
            "gridcolor": "white",
            "gridwidth": 2,
            "linecolor": "white",
            "showbackground": true,
            "ticks": "",
            "zerolinecolor": "white"
           },
           "zaxis": {
            "backgroundcolor": "#E5ECF6",
            "gridcolor": "white",
            "gridwidth": 2,
            "linecolor": "white",
            "showbackground": true,
            "ticks": "",
            "zerolinecolor": "white"
           }
          },
          "shapedefaults": {
           "line": {
            "color": "#2a3f5f"
           }
          },
          "ternary": {
           "aaxis": {
            "gridcolor": "white",
            "linecolor": "white",
            "ticks": ""
           },
           "baxis": {
            "gridcolor": "white",
            "linecolor": "white",
            "ticks": ""
           },
           "bgcolor": "#E5ECF6",
           "caxis": {
            "gridcolor": "white",
            "linecolor": "white",
            "ticks": ""
           }
          },
          "title": {
           "x": 0.05
          },
          "xaxis": {
           "automargin": true,
           "gridcolor": "white",
           "linecolor": "white",
           "ticks": "",
           "title": {
            "standoff": 15
           },
           "zerolinecolor": "white",
           "zerolinewidth": 2
          },
          "yaxis": {
           "automargin": true,
           "gridcolor": "white",
           "linecolor": "white",
           "ticks": "",
           "title": {
            "standoff": 15
           },
           "zerolinecolor": "white",
           "zerolinewidth": 2
          }
         }
        },
        "title": {
         "text": "Accuracy of the LSTM model with different parameters"
        },
        "width": 800,
        "xaxis": {
         "anchor": "y",
         "domain": [
          0,
          1
         ],
         "title": {
          "text": "Hyperparameters"
         }
        },
        "yaxis": {
         "anchor": "x",
         "domain": [
          0,
          1
         ],
         "title": {
          "text": "Accuracy"
         }
        }
       }
      },
      "text/html": [
       "<div>                            <div id=\"facab9cc-986f-4b91-b9fb-201ea4a13f36\" class=\"plotly-graph-div\" style=\"height:400px; width:800px;\"></div>            <script type=\"text/javascript\">                require([\"plotly\"], function(Plotly) {                    window.PLOTLYENV=window.PLOTLYENV || {};                                    if (document.getElementById(\"facab9cc-986f-4b91-b9fb-201ea4a13f36\")) {                    Plotly.newPlot(                        \"facab9cc-986f-4b91-b9fb-201ea4a13f36\",                        [{\"alignmentgroup\":\"True\",\"hovertemplate\":\"Hyperparameters=%{x}<br>Accuracy=%{y}<br>Run-time (Seconds)=%{marker.color}<extra></extra>\",\"legendgroup\":\"\",\"marker\":{\"color\":[1951.2940896,1058.91739,1206.1001467,2493.4072201,3322.9441625,4395.9480424,2748.984845500001,1829.8683735],\"coloraxis\":\"coloraxis\",\"pattern\":{\"shape\":\"\"}},\"name\":\"\",\"offsetgroup\":\"\",\"orientation\":\"v\",\"showlegend\":false,\"textposition\":\"outside\",\"texttemplate\":\"%{y:.3f}\",\"x\":[\"lr=0.001 bs=1024 dr=0.3\",\"lr=0.001 bs=512 dr=0.3\",\"lr=0.001 bs=512 dr=0.2\",\"lr=0.01 bs=512 dr=0.3\",\"lr=0.01 bs=1024 dr=0.3\",\"lr=0.01 bs=512 dr=0.2\",\"lr=0.01 bs=1024 dr=0.2\",\"lr=0.001 bs=1024 dr=0.2\"],\"xaxis\":\"x\",\"y\":[0.7475600242614746,0.746999979019165,0.7454133629798889,0.7436266541481018,0.743066668510437,0.7429466843605042,0.742306649684906,0.7411466836929321],\"yaxis\":\"y\",\"type\":\"bar\",\"textfont\":{\"size\":10},\"cliponaxis\":false,\"textangle\":0}],                        {\"template\":{\"data\":{\"histogram2dcontour\":[{\"type\":\"histogram2dcontour\",\"colorbar\":{\"outlinewidth\":0,\"ticks\":\"\"},\"colorscale\":[[0.0,\"#0d0887\"],[0.1111111111111111,\"#46039f\"],[0.2222222222222222,\"#7201a8\"],[0.3333333333333333,\"#9c179e\"],[0.4444444444444444,\"#bd3786\"],[0.5555555555555556,\"#d8576b\"],[0.6666666666666666,\"#ed7953\"],[0.7777777777777778,\"#fb9f3a\"],[0.8888888888888888,\"#fdca26\"],[1.0,\"#f0f921\"]]}],\"choropleth\":[{\"type\":\"choropleth\",\"colorbar\":{\"outlinewidth\":0,\"ticks\":\"\"}}],\"histogram2d\":[{\"type\":\"histogram2d\",\"colorbar\":{\"outlinewidth\":0,\"ticks\":\"\"},\"colorscale\":[[0.0,\"#0d0887\"],[0.1111111111111111,\"#46039f\"],[0.2222222222222222,\"#7201a8\"],[0.3333333333333333,\"#9c179e\"],[0.4444444444444444,\"#bd3786\"],[0.5555555555555556,\"#d8576b\"],[0.6666666666666666,\"#ed7953\"],[0.7777777777777778,\"#fb9f3a\"],[0.8888888888888888,\"#fdca26\"],[1.0,\"#f0f921\"]]}],\"heatmap\":[{\"type\":\"heatmap\",\"colorbar\":{\"outlinewidth\":0,\"ticks\":\"\"},\"colorscale\":[[0.0,\"#0d0887\"],[0.1111111111111111,\"#46039f\"],[0.2222222222222222,\"#7201a8\"],[0.3333333333333333,\"#9c179e\"],[0.4444444444444444,\"#bd3786\"],[0.5555555555555556,\"#d8576b\"],[0.6666666666666666,\"#ed7953\"],[0.7777777777777778,\"#fb9f3a\"],[0.8888888888888888,\"#fdca26\"],[1.0,\"#f0f921\"]]}],\"heatmapgl\":[{\"type\":\"heatmapgl\",\"colorbar\":{\"outlinewidth\":0,\"ticks\":\"\"},\"colorscale\":[[0.0,\"#0d0887\"],[0.1111111111111111,\"#46039f\"],[0.2222222222222222,\"#7201a8\"],[0.3333333333333333,\"#9c179e\"],[0.4444444444444444,\"#bd3786\"],[0.5555555555555556,\"#d8576b\"],[0.6666666666666666,\"#ed7953\"],[0.7777777777777778,\"#fb9f3a\"],[0.8888888888888888,\"#fdca26\"],[1.0,\"#f0f921\"]]}],\"contourcarpet\":[{\"type\":\"contourcarpet\",\"colorbar\":{\"outlinewidth\":0,\"ticks\":\"\"}}],\"contour\":[{\"type\":\"contour\",\"colorbar\":{\"outlinewidth\":0,\"ticks\":\"\"},\"colorscale\":[[0.0,\"#0d0887\"],[0.1111111111111111,\"#46039f\"],[0.2222222222222222,\"#7201a8\"],[0.3333333333333333,\"#9c179e\"],[0.4444444444444444,\"#bd3786\"],[0.5555555555555556,\"#d8576b\"],[0.6666666666666666,\"#ed7953\"],[0.7777777777777778,\"#fb9f3a\"],[0.8888888888888888,\"#fdca26\"],[1.0,\"#f0f921\"]]}],\"surface\":[{\"type\":\"surface\",\"colorbar\":{\"outlinewidth\":0,\"ticks\":\"\"},\"colorscale\":[[0.0,\"#0d0887\"],[0.1111111111111111,\"#46039f\"],[0.2222222222222222,\"#7201a8\"],[0.3333333333333333,\"#9c179e\"],[0.4444444444444444,\"#bd3786\"],[0.5555555555555556,\"#d8576b\"],[0.6666666666666666,\"#ed7953\"],[0.7777777777777778,\"#fb9f3a\"],[0.8888888888888888,\"#fdca26\"],[1.0,\"#f0f921\"]]}],\"mesh3d\":[{\"type\":\"mesh3d\",\"colorbar\":{\"outlinewidth\":0,\"ticks\":\"\"}}],\"scatter\":[{\"fillpattern\":{\"fillmode\":\"overlay\",\"size\":10,\"solidity\":0.2},\"type\":\"scatter\"}],\"parcoords\":[{\"type\":\"parcoords\",\"line\":{\"colorbar\":{\"outlinewidth\":0,\"ticks\":\"\"}}}],\"scatterpolargl\":[{\"type\":\"scatterpolargl\",\"marker\":{\"colorbar\":{\"outlinewidth\":0,\"ticks\":\"\"}}}],\"bar\":[{\"error_x\":{\"color\":\"#2a3f5f\"},\"error_y\":{\"color\":\"#2a3f5f\"},\"marker\":{\"line\":{\"color\":\"#E5ECF6\",\"width\":0.5},\"pattern\":{\"fillmode\":\"overlay\",\"size\":10,\"solidity\":0.2}},\"type\":\"bar\"}],\"scattergeo\":[{\"type\":\"scattergeo\",\"marker\":{\"colorbar\":{\"outlinewidth\":0,\"ticks\":\"\"}}}],\"scatterpolar\":[{\"type\":\"scatterpolar\",\"marker\":{\"colorbar\":{\"outlinewidth\":0,\"ticks\":\"\"}}}],\"histogram\":[{\"marker\":{\"pattern\":{\"fillmode\":\"overlay\",\"size\":10,\"solidity\":0.2}},\"type\":\"histogram\"}],\"scattergl\":[{\"type\":\"scattergl\",\"marker\":{\"colorbar\":{\"outlinewidth\":0,\"ticks\":\"\"}}}],\"scatter3d\":[{\"type\":\"scatter3d\",\"line\":{\"colorbar\":{\"outlinewidth\":0,\"ticks\":\"\"}},\"marker\":{\"colorbar\":{\"outlinewidth\":0,\"ticks\":\"\"}}}],\"scattermapbox\":[{\"type\":\"scattermapbox\",\"marker\":{\"colorbar\":{\"outlinewidth\":0,\"ticks\":\"\"}}}],\"scatterternary\":[{\"type\":\"scatterternary\",\"marker\":{\"colorbar\":{\"outlinewidth\":0,\"ticks\":\"\"}}}],\"scattercarpet\":[{\"type\":\"scattercarpet\",\"marker\":{\"colorbar\":{\"outlinewidth\":0,\"ticks\":\"\"}}}],\"carpet\":[{\"aaxis\":{\"endlinecolor\":\"#2a3f5f\",\"gridcolor\":\"white\",\"linecolor\":\"white\",\"minorgridcolor\":\"white\",\"startlinecolor\":\"#2a3f5f\"},\"baxis\":{\"endlinecolor\":\"#2a3f5f\",\"gridcolor\":\"white\",\"linecolor\":\"white\",\"minorgridcolor\":\"white\",\"startlinecolor\":\"#2a3f5f\"},\"type\":\"carpet\"}],\"table\":[{\"cells\":{\"fill\":{\"color\":\"#EBF0F8\"},\"line\":{\"color\":\"white\"}},\"header\":{\"fill\":{\"color\":\"#C8D4E3\"},\"line\":{\"color\":\"white\"}},\"type\":\"table\"}],\"barpolar\":[{\"marker\":{\"line\":{\"color\":\"#E5ECF6\",\"width\":0.5},\"pattern\":{\"fillmode\":\"overlay\",\"size\":10,\"solidity\":0.2}},\"type\":\"barpolar\"}],\"pie\":[{\"automargin\":true,\"type\":\"pie\"}]},\"layout\":{\"autotypenumbers\":\"strict\",\"colorway\":[\"#636efa\",\"#EF553B\",\"#00cc96\",\"#ab63fa\",\"#FFA15A\",\"#19d3f3\",\"#FF6692\",\"#B6E880\",\"#FF97FF\",\"#FECB52\"],\"font\":{\"color\":\"#2a3f5f\"},\"hovermode\":\"closest\",\"hoverlabel\":{\"align\":\"left\"},\"paper_bgcolor\":\"white\",\"plot_bgcolor\":\"#E5ECF6\",\"polar\":{\"bgcolor\":\"#E5ECF6\",\"angularaxis\":{\"gridcolor\":\"white\",\"linecolor\":\"white\",\"ticks\":\"\"},\"radialaxis\":{\"gridcolor\":\"white\",\"linecolor\":\"white\",\"ticks\":\"\"}},\"ternary\":{\"bgcolor\":\"#E5ECF6\",\"aaxis\":{\"gridcolor\":\"white\",\"linecolor\":\"white\",\"ticks\":\"\"},\"baxis\":{\"gridcolor\":\"white\",\"linecolor\":\"white\",\"ticks\":\"\"},\"caxis\":{\"gridcolor\":\"white\",\"linecolor\":\"white\",\"ticks\":\"\"}},\"coloraxis\":{\"colorbar\":{\"outlinewidth\":0,\"ticks\":\"\"}},\"colorscale\":{\"sequential\":[[0.0,\"#0d0887\"],[0.1111111111111111,\"#46039f\"],[0.2222222222222222,\"#7201a8\"],[0.3333333333333333,\"#9c179e\"],[0.4444444444444444,\"#bd3786\"],[0.5555555555555556,\"#d8576b\"],[0.6666666666666666,\"#ed7953\"],[0.7777777777777778,\"#fb9f3a\"],[0.8888888888888888,\"#fdca26\"],[1.0,\"#f0f921\"]],\"sequentialminus\":[[0.0,\"#0d0887\"],[0.1111111111111111,\"#46039f\"],[0.2222222222222222,\"#7201a8\"],[0.3333333333333333,\"#9c179e\"],[0.4444444444444444,\"#bd3786\"],[0.5555555555555556,\"#d8576b\"],[0.6666666666666666,\"#ed7953\"],[0.7777777777777778,\"#fb9f3a\"],[0.8888888888888888,\"#fdca26\"],[1.0,\"#f0f921\"]],\"diverging\":[[0,\"#8e0152\"],[0.1,\"#c51b7d\"],[0.2,\"#de77ae\"],[0.3,\"#f1b6da\"],[0.4,\"#fde0ef\"],[0.5,\"#f7f7f7\"],[0.6,\"#e6f5d0\"],[0.7,\"#b8e186\"],[0.8,\"#7fbc41\"],[0.9,\"#4d9221\"],[1,\"#276419\"]]},\"xaxis\":{\"gridcolor\":\"white\",\"linecolor\":\"white\",\"ticks\":\"\",\"title\":{\"standoff\":15},\"zerolinecolor\":\"white\",\"automargin\":true,\"zerolinewidth\":2},\"yaxis\":{\"gridcolor\":\"white\",\"linecolor\":\"white\",\"ticks\":\"\",\"title\":{\"standoff\":15},\"zerolinecolor\":\"white\",\"automargin\":true,\"zerolinewidth\":2},\"scene\":{\"xaxis\":{\"backgroundcolor\":\"#E5ECF6\",\"gridcolor\":\"white\",\"linecolor\":\"white\",\"showbackground\":true,\"ticks\":\"\",\"zerolinecolor\":\"white\",\"gridwidth\":2},\"yaxis\":{\"backgroundcolor\":\"#E5ECF6\",\"gridcolor\":\"white\",\"linecolor\":\"white\",\"showbackground\":true,\"ticks\":\"\",\"zerolinecolor\":\"white\",\"gridwidth\":2},\"zaxis\":{\"backgroundcolor\":\"#E5ECF6\",\"gridcolor\":\"white\",\"linecolor\":\"white\",\"showbackground\":true,\"ticks\":\"\",\"zerolinecolor\":\"white\",\"gridwidth\":2}},\"shapedefaults\":{\"line\":{\"color\":\"#2a3f5f\"}},\"annotationdefaults\":{\"arrowcolor\":\"#2a3f5f\",\"arrowhead\":0,\"arrowwidth\":1},\"geo\":{\"bgcolor\":\"white\",\"landcolor\":\"#E5ECF6\",\"subunitcolor\":\"white\",\"showland\":true,\"showlakes\":true,\"lakecolor\":\"white\"},\"title\":{\"x\":0.05},\"mapbox\":{\"style\":\"light\"}}},\"xaxis\":{\"anchor\":\"y\",\"domain\":[0.0,1.0],\"title\":{\"text\":\"Hyperparameters\"}},\"yaxis\":{\"anchor\":\"x\",\"domain\":[0.0,1.0],\"title\":{\"text\":\"Accuracy\"}},\"coloraxis\":{\"colorbar\":{\"title\":{\"text\":\"Run-time (Seconds)\"}},\"colorscale\":[[0.0,\"#0d0887\"],[0.1111111111111111,\"#46039f\"],[0.2222222222222222,\"#7201a8\"],[0.3333333333333333,\"#9c179e\"],[0.4444444444444444,\"#bd3786\"],[0.5555555555555556,\"#d8576b\"],[0.6666666666666666,\"#ed7953\"],[0.7777777777777778,\"#fb9f3a\"],[0.8888888888888888,\"#fdca26\"],[1.0,\"#f0f921\"]]},\"legend\":{\"tracegroupgap\":0},\"title\":{\"text\":\"Accuracy of the LSTM model with different parameters\"},\"barmode\":\"relative\",\"height\":400,\"width\":800},                        {\"responsive\": true}                    ).then(function(){\n",
       "                            \n",
       "var gd = document.getElementById('facab9cc-986f-4b91-b9fb-201ea4a13f36');\n",
       "var x = new MutationObserver(function (mutations, observer) {{\n",
       "        var display = window.getComputedStyle(gd).display;\n",
       "        if (!display || display === 'none') {{\n",
       "            console.log([gd, 'removed!']);\n",
       "            Plotly.purge(gd);\n",
       "            observer.disconnect();\n",
       "        }}\n",
       "}});\n",
       "\n",
       "// Listen for the removal of the full notebook cells\n",
       "var notebookContainer = gd.closest('#notebook-container');\n",
       "if (notebookContainer) {{\n",
       "    x.observe(notebookContainer, {childList: true});\n",
       "}}\n",
       "\n",
       "// Listen for the clearing of the current output cell\n",
       "var outputEl = gd.closest('.output');\n",
       "if (outputEl) {{\n",
       "    x.observe(outputEl, {childList: true});\n",
       "}}\n",
       "\n",
       "                        })                };                });            </script>        </div>"
      ]
     },
     "metadata": {},
     "output_type": "display_data"
    }
   ],
   "source": [
    "import plotly.express as px\n",
    "# Extract the hyperparameters, accuracy, and running time into separate lists\n",
    "hyperparameters = [f\"lr={result['learning_rate']} bs={result['batch_size']} dr={result['dropout_rate']}\" for result in results]\n",
    "accuracy = [result['accuracy'] for result in results]\n",
    "running_time = [result['running_time'] for result in results]\n",
    "\n",
    "# Create the bar plot\n",
    "fig = px.bar(x=hyperparameters, y=accuracy, color=running_time, text_auto ='.3f',\n",
    "             labels={\"x\": \"Hyperparameters\", \"y\": \"Accuracy\", \"color\": \"Run-time (Seconds)\"},\n",
    "             title=\"Accuracy of the LSTM model with different parameters\",\n",
    "             width=800, height=400)\n",
    "\n",
    "# Update the appearance of the bars\n",
    "fig.update_traces(textfont_size=10, textangle=0, textposition=\"outside\", cliponaxis=False)\n",
    "\n",
    "# Display the plot\n",
    "fig.show()"
   ]
  },
  {
   "cell_type": "markdown",
   "id": "742c3004",
   "metadata": {},
   "source": [
    "### Model saving and prediction"
   ]
  },
  {
   "cell_type": "code",
   "execution_count": 37,
   "id": "8153e7f5",
   "metadata": {},
   "outputs": [],
   "source": [
    "# Extract the best hyperparameters and accuracy\n",
    "best_hyperparameters = results[1]\n",
    "\n",
    "# Save the model\n",
    "model.save(\"best_model_lstm.h5\")"
   ]
  },
  {
   "cell_type": "code",
   "execution_count": 38,
   "id": "fcf5a87d",
   "metadata": {},
   "outputs": [
    {
     "data": {
      "text/plain": [
       "{'learning_rate': 0.001,\n",
       " 'batch_size': 512,\n",
       " 'dropout_rate': 0.3,\n",
       " 'accuracy': 0.746999979019165,\n",
       " 'running_time': 1058.91739}"
      ]
     },
     "execution_count": 38,
     "metadata": {},
     "output_type": "execute_result"
    }
   ],
   "source": [
    "best_hyperparameters"
   ]
  },
  {
   "cell_type": "code",
   "execution_count": 39,
   "id": "32d05b4e",
   "metadata": {},
   "outputs": [
    {
     "name": "stdout",
     "output_type": "stream",
     "text": [
      "2344/2344 [==============================] - 81s 35ms/step\n",
      "[['negative']\n",
      " ['positive']\n",
      " ['negative']\n",
      " ...\n",
      " ['positive']\n",
      " ['negative']\n",
      " ['negative']]\n"
     ]
    }
   ],
   "source": [
    "import tensorflow as tf\n",
    "\n",
    "# Load the saved model\n",
    "saved_model_path = 'best_model_lstm.h5'\n",
    "loaded_model = tf.keras.models.load_model(saved_model_path)\n",
    "\n",
    "# Make predictions on the test set\n",
    "predictions = loaded_model.predict(x_test)\n",
    "# Apply the threshold and classify predictions as positive or negative\n",
    "binary_predictions = np.where(predictions > 0.5, 'positive', 'negative')\n",
    "print(binary_predictions)"
   ]
  },
  {
   "cell_type": "markdown",
   "id": "d2ce70c5",
   "metadata": {},
   "source": [
    "### Confusion Matrix and classification report"
   ]
  },
  {
   "cell_type": "code",
   "execution_count": 40,
   "id": "506b50b7",
   "metadata": {},
   "outputs": [
    {
     "data": {
      "image/png": "[encoded data removed]",
      "text/plain": [
       "<Figure size 432x288 with 2 Axes>"
      ]
     },
     "metadata": {
      "needs_background": "light"
     },
     "output_type": "display_data"
    }
   ],
   "source": [
    "# Map string labels to numeric labels\n",
    "label_mapping = {\"negative\": 0, \"positive\": 1}\n",
    "\n",
    "# Convert binary_predictions to numeric labels\n",
    "binary_predictions_numeric = np.zeros_like(binary_predictions)\n",
    "for i in range(len(binary_predictions)):\n",
    "    binary_predictions_numeric[i] = label_mapping[binary_predictions[i][0]]\n",
    "\n",
    "binary_predictions_numeric = binary_predictions_numeric.astype(int)\n",
    "\n",
    "# Compute confusion matrix\n",
    "cm = confusion_matrix(y_test, binary_predictions_numeric)\n",
    "\n",
    "# Calculate probabilities from the confusion matrix\n",
    "cm_probabilities = cm.astype('float') / cm.sum(axis=1)[:, np.newaxis]\n",
    "\n",
    "class_labels = [\"negative\", \"positive\"]\n",
    "\n",
    "# Plot confusion matrix\n",
    "sns.heatmap(cm_probabilities, annot=True, cmap=\"Blues\", fmt=\".2f\", xticklabels=class_labels, yticklabels=class_labels)\n",
    "plt.xlabel(\"Predicted\")\n",
    "plt.ylabel(\"True\")\n",
    "plt.title(\"Confusion Matrix\")\n",
    "plt.show()"
   ]
  },
  {
   "cell_type": "code",
   "execution_count": 41,
   "id": "b305a7db",
   "metadata": {},
   "outputs": [
    {
     "name": "stdout",
     "output_type": "stream",
     "text": [
      "              precision    recall  f1-score   support\n",
      "\n",
      "    negative       0.77      0.69      0.73     37248\n",
      "    positive       0.72      0.80      0.76     37752\n",
      "\n",
      "    accuracy                           0.74     75000\n",
      "   macro avg       0.75      0.74      0.74     75000\n",
      "weighted avg       0.75      0.74      0.74     75000\n",
      "\n"
     ]
    }
   ],
   "source": [
    "# Generate classification report\n",
    "report = classification_report(y_test, binary_predictions_numeric, target_names=class_labels)\n",
    "print(report)"
   ]
  },
  {
   "cell_type": "code",
   "execution_count": null,
   "id": "e5e85ec8",
   "metadata": {},
   "outputs": [],
   "source": []
  }
 ],
 "metadata": {
  "kernelspec": {
   "display_name": "Python 3 (ipykernel)",
   "language": "python",
   "name": "python3"
  },
  "language_info": {
   "codemirror_mode": {
    "name": "ipython",
    "version": 3
   },
   "file_extension": ".py",
   "mimetype": "text/x-python",
   "name": "python",
   "nbconvert_exporter": "python",
   "pygments_lexer": "ipython3",
   "version": "3.9.7"
  }
 },
 "nbformat": 4,
 "nbformat_minor": 5
}
